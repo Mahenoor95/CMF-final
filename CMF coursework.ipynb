{
 "cells": [
  {
   "cell_type": "markdown",
   "id": "19e9cb8a",
   "metadata": {},
   "source": [
    "# data collection"
   ]
  },
  {
   "cell_type": "code",
   "execution_count": 39,
   "id": "74f454c7",
   "metadata": {},
   "outputs": [
    {
     "name": "stdout",
     "output_type": "stream",
     "text": [
      "Requirement already satisfied: yfinance in c:\\anaconda\\lib\\site-packages (0.1.64)\n",
      "Requirement already satisfied: pandas>=0.24 in c:\\anaconda\\lib\\site-packages (from yfinance) (1.2.4)\n",
      "Requirement already satisfied: requests>=2.20 in c:\\anaconda\\lib\\site-packages (from yfinance) (2.25.1)\n",
      "Requirement already satisfied: lxml>=4.5.1 in c:\\anaconda\\lib\\site-packages (from yfinance) (4.6.3)\n",
      "Requirement already satisfied: numpy>=1.15 in c:\\anaconda\\lib\\site-packages (from yfinance) (1.20.1)Note: you may need to restart the kernel to use updated packages.\n",
      "\n",
      "Requirement already satisfied: multitasking>=0.0.7 in c:\\anaconda\\lib\\site-packages (from yfinance) (0.0.9)\n",
      "Requirement already satisfied: pytz>=2017.3 in c:\\anaconda\\lib\\site-packages (from pandas>=0.24->yfinance) (2021.1)\n",
      "Requirement already satisfied: python-dateutil>=2.7.3 in c:\\anaconda\\lib\\site-packages (from pandas>=0.24->yfinance) (2.8.1)\n",
      "Requirement already satisfied: six>=1.5 in c:\\anaconda\\lib\\site-packages (from python-dateutil>=2.7.3->pandas>=0.24->yfinance) (1.15.0)\n",
      "Requirement already satisfied: urllib3<1.27,>=1.21.1 in c:\\anaconda\\lib\\site-packages (from requests>=2.20->yfinance) (1.26.4)\n",
      "Requirement already satisfied: certifi>=2017.4.17 in c:\\anaconda\\lib\\site-packages (from requests>=2.20->yfinance) (2020.12.5)\n",
      "Requirement already satisfied: chardet<5,>=3.0.2 in c:\\anaconda\\lib\\site-packages (from requests>=2.20->yfinance) (4.0.0)\n",
      "Requirement already satisfied: idna<3,>=2.5 in c:\\anaconda\\lib\\site-packages (from requests>=2.20->yfinance) (2.10)\n"
     ]
    }
   ],
   "source": [
    "pip install yfinance"
   ]
  },
  {
   "cell_type": "markdown",
   "id": "8fef8766",
   "metadata": {},
   "source": [
    "# data input"
   ]
  },
  {
   "cell_type": "code",
   "execution_count": null,
   "id": "d4335390",
   "metadata": {},
   "outputs": [],
   "source": [
    "import yfinance as yf\n",
    "import numpy as np\n",
    "import pandas as pd\n",
    "import os\n",
    "import matplotlib.pyplot as plt"
   ]
  },
  {
   "cell_type": "markdown",
   "id": "67a0691a",
   "metadata": {},
   "source": [
    "# data downloading"
   ]
  },
  {
   "cell_type": "code",
   "execution_count": 3,
   "id": "9fa10163",
   "metadata": {
    "scrolled": true
   },
   "outputs": [
    {
     "name": "stdout",
     "output_type": "stream",
     "text": [
      "[*********************100%***********************]  1 of 1 completed\n"
     ]
    }
   ],
   "source": [
    "data = yf.download(\"BIIB\", start=\"2020-10-01\", end=\"2021-11-30\")"
   ]
  },
  {
   "cell_type": "markdown",
   "id": "5e4da560",
   "metadata": {},
   "source": [
    "data description "
   ]
  },
  {
   "cell_type": "code",
   "execution_count": 11,
   "id": "2825b603",
   "metadata": {
    "scrolled": false
   },
   "outputs": [
    {
     "data": {
      "text/html": [
       "<div>\n",
       "<style scoped>\n",
       "    .dataframe tbody tr th:only-of-type {\n",
       "        vertical-align: middle;\n",
       "    }\n",
       "\n",
       "    .dataframe tbody tr th {\n",
       "        vertical-align: top;\n",
       "    }\n",
       "\n",
       "    .dataframe thead th {\n",
       "        text-align: right;\n",
       "    }\n",
       "</style>\n",
       "<table border=\"1\" class=\"dataframe\">\n",
       "  <thead>\n",
       "    <tr style=\"text-align: right;\">\n",
       "      <th></th>\n",
       "      <th>Open</th>\n",
       "      <th>High</th>\n",
       "      <th>Low</th>\n",
       "      <th>Close</th>\n",
       "      <th>Adj Close</th>\n",
       "      <th>Volume</th>\n",
       "    </tr>\n",
       "  </thead>\n",
       "  <tbody>\n",
       "    <tr>\n",
       "      <th>count</th>\n",
       "      <td>294.000000</td>\n",
       "      <td>294.000000</td>\n",
       "      <td>294.000000</td>\n",
       "      <td>294.000000</td>\n",
       "      <td>294.000000</td>\n",
       "      <td>2.940000e+02</td>\n",
       "    </tr>\n",
       "    <tr>\n",
       "      <th>mean</th>\n",
       "      <td>287.083062</td>\n",
       "      <td>291.696020</td>\n",
       "      <td>282.926735</td>\n",
       "      <td>287.213639</td>\n",
       "      <td>287.213639</td>\n",
       "      <td>1.429499e+06</td>\n",
       "    </tr>\n",
       "    <tr>\n",
       "      <th>std</th>\n",
       "      <td>38.128287</td>\n",
       "      <td>40.581606</td>\n",
       "      <td>37.084867</td>\n",
       "      <td>38.701507</td>\n",
       "      <td>38.701507</td>\n",
       "      <td>1.644407e+06</td>\n",
       "    </tr>\n",
       "    <tr>\n",
       "      <th>min</th>\n",
       "      <td>230.820007</td>\n",
       "      <td>239.500000</td>\n",
       "      <td>223.250000</td>\n",
       "      <td>236.110001</td>\n",
       "      <td>236.110001</td>\n",
       "      <td>6.000000e+02</td>\n",
       "    </tr>\n",
       "    <tr>\n",
       "      <th>25%</th>\n",
       "      <td>265.275002</td>\n",
       "      <td>268.735001</td>\n",
       "      <td>261.794998</td>\n",
       "      <td>265.194992</td>\n",
       "      <td>265.194992</td>\n",
       "      <td>8.827500e+05</td>\n",
       "    </tr>\n",
       "    <tr>\n",
       "      <th>50%</th>\n",
       "      <td>274.285004</td>\n",
       "      <td>279.325012</td>\n",
       "      <td>270.850006</td>\n",
       "      <td>274.520004</td>\n",
       "      <td>274.520004</td>\n",
       "      <td>1.060550e+06</td>\n",
       "    </tr>\n",
       "    <tr>\n",
       "      <th>75%</th>\n",
       "      <td>299.724998</td>\n",
       "      <td>302.457504</td>\n",
       "      <td>295.000000</td>\n",
       "      <td>299.570000</td>\n",
       "      <td>299.570000</td>\n",
       "      <td>1.379550e+06</td>\n",
       "    </tr>\n",
       "    <tr>\n",
       "      <th>max</th>\n",
       "      <td>423.329987</td>\n",
       "      <td>468.549988</td>\n",
       "      <td>404.250000</td>\n",
       "      <td>414.709991</td>\n",
       "      <td>414.709991</td>\n",
       "      <td>1.795410e+07</td>\n",
       "    </tr>\n",
       "  </tbody>\n",
       "</table>\n",
       "</div>"
      ],
      "text/plain": [
       "             Open        High         Low       Close   Adj Close  \\\n",
       "count  294.000000  294.000000  294.000000  294.000000  294.000000   \n",
       "mean   287.083062  291.696020  282.926735  287.213639  287.213639   \n",
       "std     38.128287   40.581606   37.084867   38.701507   38.701507   \n",
       "min    230.820007  239.500000  223.250000  236.110001  236.110001   \n",
       "25%    265.275002  268.735001  261.794998  265.194992  265.194992   \n",
       "50%    274.285004  279.325012  270.850006  274.520004  274.520004   \n",
       "75%    299.724998  302.457504  295.000000  299.570000  299.570000   \n",
       "max    423.329987  468.549988  404.250000  414.709991  414.709991   \n",
       "\n",
       "             Volume  \n",
       "count  2.940000e+02  \n",
       "mean   1.429499e+06  \n",
       "std    1.644407e+06  \n",
       "min    6.000000e+02  \n",
       "25%    8.827500e+05  \n",
       "50%    1.060550e+06  \n",
       "75%    1.379550e+06  \n",
       "max    1.795410e+07  "
      ]
     },
     "execution_count": 11,
     "metadata": {},
     "output_type": "execute_result"
    }
   ],
   "source": [
    "data.describe()"
   ]
  },
  {
   "cell_type": "code",
   "execution_count": 33,
   "id": "b2a442f3",
   "metadata": {},
   "outputs": [
    {
     "data": {
      "text/plain": [
       "array([<AxesSubplot:xlabel='Date'>, <AxesSubplot:xlabel='Date'>,\n",
       "       <AxesSubplot:xlabel='Date'>, <AxesSubplot:xlabel='Date'>,\n",
       "       <AxesSubplot:xlabel='Date'>, <AxesSubplot:xlabel='Date'>],\n",
       "      dtype=object)"
      ]
     },
     "execution_count": 33,
     "metadata": {},
     "output_type": "execute_result"
    },
    {
     "data": {
      "image/png": "[encoded data removed]",
      "text/plain": [
       "<Figure size 720x864 with 6 Axes>"
      ]
     },
     "metadata": {
      "needs_background": "light"
     },
     "output_type": "display_data"
    }
   ],
   "source": [
    "data.plot(figsize=(10, 12), subplots=True)"
   ]
  },
  {
   "cell_type": "code",
   "execution_count": 12,
   "id": "a7bf1e4f",
   "metadata": {},
   "outputs": [
    {
     "data": {
      "text/html": [
       "<div>\n",
       "<style scoped>\n",
       "    .dataframe tbody tr th:only-of-type {\n",
       "        vertical-align: middle;\n",
       "    }\n",
       "\n",
       "    .dataframe tbody tr th {\n",
       "        vertical-align: top;\n",
       "    }\n",
       "\n",
       "    .dataframe thead th {\n",
       "        text-align: right;\n",
       "    }\n",
       "</style>\n",
       "<table border=\"1\" class=\"dataframe\">\n",
       "  <thead>\n",
       "    <tr style=\"text-align: right;\">\n",
       "      <th></th>\n",
       "      <th>Open</th>\n",
       "      <th>High</th>\n",
       "      <th>Low</th>\n",
       "      <th>Close</th>\n",
       "      <th>Adj Close</th>\n",
       "      <th>Volume</th>\n",
       "    </tr>\n",
       "    <tr>\n",
       "      <th>Date</th>\n",
       "      <th></th>\n",
       "      <th></th>\n",
       "      <th></th>\n",
       "      <th></th>\n",
       "      <th></th>\n",
       "      <th></th>\n",
       "    </tr>\n",
       "  </thead>\n",
       "  <tbody>\n",
       "    <tr>\n",
       "      <th>2020-09-30</th>\n",
       "      <td>283.869995</td>\n",
       "      <td>284.850006</td>\n",
       "      <td>280.790009</td>\n",
       "      <td>283.679993</td>\n",
       "      <td>283.679993</td>\n",
       "      <td>1200000</td>\n",
       "    </tr>\n",
       "    <tr>\n",
       "      <th>2020-10-01</th>\n",
       "      <td>284.959991</td>\n",
       "      <td>286.170013</td>\n",
       "      <td>280.589996</td>\n",
       "      <td>285.570007</td>\n",
       "      <td>285.570007</td>\n",
       "      <td>971600</td>\n",
       "    </tr>\n",
       "    <tr>\n",
       "      <th>2020-10-02</th>\n",
       "      <td>281.649994</td>\n",
       "      <td>285.470001</td>\n",
       "      <td>276.059998</td>\n",
       "      <td>277.640015</td>\n",
       "      <td>277.640015</td>\n",
       "      <td>976000</td>\n",
       "    </tr>\n",
       "    <tr>\n",
       "      <th>2020-10-05</th>\n",
       "      <td>278.670013</td>\n",
       "      <td>285.920013</td>\n",
       "      <td>277.359985</td>\n",
       "      <td>284.179993</td>\n",
       "      <td>284.179993</td>\n",
       "      <td>888000</td>\n",
       "    </tr>\n",
       "    <tr>\n",
       "      <th>2020-10-06</th>\n",
       "      <td>284.170013</td>\n",
       "      <td>285.899994</td>\n",
       "      <td>279.390015</td>\n",
       "      <td>281.149994</td>\n",
       "      <td>281.149994</td>\n",
       "      <td>758100</td>\n",
       "    </tr>\n",
       "  </tbody>\n",
       "</table>\n",
       "</div>"
      ],
      "text/plain": [
       "                  Open        High         Low       Close   Adj Close  \\\n",
       "Date                                                                     \n",
       "2020-09-30  283.869995  284.850006  280.790009  283.679993  283.679993   \n",
       "2020-10-01  284.959991  286.170013  280.589996  285.570007  285.570007   \n",
       "2020-10-02  281.649994  285.470001  276.059998  277.640015  277.640015   \n",
       "2020-10-05  278.670013  285.920013  277.359985  284.179993  284.179993   \n",
       "2020-10-06  284.170013  285.899994  279.390015  281.149994  281.149994   \n",
       "\n",
       "             Volume  \n",
       "Date                 \n",
       "2020-09-30  1200000  \n",
       "2020-10-01   971600  \n",
       "2020-10-02   976000  \n",
       "2020-10-05   888000  \n",
       "2020-10-06   758100  "
      ]
     },
     "execution_count": 12,
     "metadata": {},
     "output_type": "execute_result"
    }
   ],
   "source": [
    "data.head()"
   ]
  },
  {
   "cell_type": "code",
   "execution_count": 13,
   "id": "6d6a0b8d",
   "metadata": {},
   "outputs": [
    {
     "data": {
      "text/html": [
       "<div>\n",
       "<style scoped>\n",
       "    .dataframe tbody tr th:only-of-type {\n",
       "        vertical-align: middle;\n",
       "    }\n",
       "\n",
       "    .dataframe tbody tr th {\n",
       "        vertical-align: top;\n",
       "    }\n",
       "\n",
       "    .dataframe thead th {\n",
       "        text-align: right;\n",
       "    }\n",
       "</style>\n",
       "<table border=\"1\" class=\"dataframe\">\n",
       "  <thead>\n",
       "    <tr style=\"text-align: right;\">\n",
       "      <th></th>\n",
       "      <th>Open</th>\n",
       "      <th>High</th>\n",
       "      <th>Low</th>\n",
       "      <th>Close</th>\n",
       "      <th>Adj Close</th>\n",
       "      <th>Volume</th>\n",
       "    </tr>\n",
       "    <tr>\n",
       "      <th>Date</th>\n",
       "      <th></th>\n",
       "      <th></th>\n",
       "      <th></th>\n",
       "      <th></th>\n",
       "      <th></th>\n",
       "      <th></th>\n",
       "    </tr>\n",
       "  </thead>\n",
       "  <tbody>\n",
       "    <tr>\n",
       "      <th>2021-11-22</th>\n",
       "      <td>257.970001</td>\n",
       "      <td>258.890015</td>\n",
       "      <td>250.669998</td>\n",
       "      <td>252.210007</td>\n",
       "      <td>252.210007</td>\n",
       "      <td>1290300</td>\n",
       "    </tr>\n",
       "    <tr>\n",
       "      <th>2021-11-23</th>\n",
       "      <td>252.070007</td>\n",
       "      <td>254.449997</td>\n",
       "      <td>249.520004</td>\n",
       "      <td>254.149994</td>\n",
       "      <td>254.149994</td>\n",
       "      <td>799100</td>\n",
       "    </tr>\n",
       "    <tr>\n",
       "      <th>2021-11-24</th>\n",
       "      <td>253.179993</td>\n",
       "      <td>253.179993</td>\n",
       "      <td>247.660004</td>\n",
       "      <td>250.130005</td>\n",
       "      <td>250.130005</td>\n",
       "      <td>1579800</td>\n",
       "    </tr>\n",
       "    <tr>\n",
       "      <th>2021-11-26</th>\n",
       "      <td>250.779999</td>\n",
       "      <td>250.779999</td>\n",
       "      <td>242.020004</td>\n",
       "      <td>242.899994</td>\n",
       "      <td>242.899994</td>\n",
       "      <td>1300400</td>\n",
       "    </tr>\n",
       "    <tr>\n",
       "      <th>2021-11-29</th>\n",
       "      <td>245.360001</td>\n",
       "      <td>245.500000</td>\n",
       "      <td>235.179993</td>\n",
       "      <td>236.110001</td>\n",
       "      <td>236.110001</td>\n",
       "      <td>2229100</td>\n",
       "    </tr>\n",
       "  </tbody>\n",
       "</table>\n",
       "</div>"
      ],
      "text/plain": [
       "                  Open        High         Low       Close   Adj Close  \\\n",
       "Date                                                                     \n",
       "2021-11-22  257.970001  258.890015  250.669998  252.210007  252.210007   \n",
       "2021-11-23  252.070007  254.449997  249.520004  254.149994  254.149994   \n",
       "2021-11-24  253.179993  253.179993  247.660004  250.130005  250.130005   \n",
       "2021-11-26  250.779999  250.779999  242.020004  242.899994  242.899994   \n",
       "2021-11-29  245.360001  245.500000  235.179993  236.110001  236.110001   \n",
       "\n",
       "             Volume  \n",
       "Date                 \n",
       "2021-11-22  1290300  \n",
       "2021-11-23   799100  \n",
       "2021-11-24  1579800  \n",
       "2021-11-26  1300400  \n",
       "2021-11-29  2229100  "
      ]
     },
     "execution_count": 13,
     "metadata": {},
     "output_type": "execute_result"
    }
   ],
   "source": [
    "data.tail()"
   ]
  },
  {
   "cell_type": "markdown",
   "id": "c64a0521",
   "metadata": {},
   "source": [
    "normal return from the data"
   ]
  },
  {
   "cell_type": "code",
   "execution_count": 18,
   "id": "bc04904a",
   "metadata": {},
   "outputs": [
    {
     "data": {
      "text/plain": [
       "[0.006662488357427461,\n",
       " -0.027768996996866063,\n",
       " 0.02355560323545227,\n",
       " -0.010662252295691264,\n",
       " 0.016361394996897226]"
      ]
     },
     "execution_count": 18,
     "metadata": {},
     "output_type": "execute_result"
    }
   ],
   "source": [
    "normal_return = []\n",
    "for i in range(0,len(data)-1):\n",
    "    adjclose_yesterday = data.iloc[i]['Adj Close']\n",
    "    adjclose_today = data.iloc[i+1]['Adj Close']\n",
    "    x = (adjclose_today - adjclose_yesterday) / adjclose_yesterday\n",
    "    normal_return.append(x)\n",
    "normal_return[:5]"
   ]
  },
  {
   "cell_type": "markdown",
   "id": "91201e78",
   "metadata": {},
   "source": [
    "log return from the data"
   ]
  },
  {
   "cell_type": "code",
   "execution_count": 19,
   "id": "24814e83",
   "metadata": {},
   "outputs": [
    {
     "data": {
      "text/plain": [
       "[0.006640392071737657,\n",
       " -0.028161845347115202,\n",
       " 0.02328245120483556,\n",
       " -0.010719501407658604,\n",
       " 0.01622898964581728]"
      ]
     },
     "execution_count": 19,
     "metadata": {},
     "output_type": "execute_result"
    }
   ],
   "source": [
    "log_return = []\n",
    "for i in range(0,len(data)-1):\n",
    "    adjclose_yesterday = data.iloc[i]['Adj Close']\n",
    "    adjclose_today = data.iloc[i+1]['Adj Close']\n",
    "    y = np.log(adjclose_today / adjclose_yesterday)\n",
    "    log_return.append(y)\n",
    "log_return[:5]"
   ]
  },
  {
   "cell_type": "markdown",
   "id": "8733372f",
   "metadata": {},
   "source": [
    "# annualized volatility of biogen inc. in normal return."
   ]
  },
  {
   "cell_type": "code",
   "execution_count": 44,
   "id": "3b865624",
   "metadata": {},
   "outputs": [
    {
     "name": "stdout",
     "output_type": "stream",
     "text": [
      "The annulized normal return is 0.048059345 and its annulized volatility is 0.719178126\n"
     ]
    }
   ],
   "source": [
    "dfnr = pd.DataFrame(normal_return, columns = ['normal']) \n",
    "nr = dfnr.mean() * len(dfnr)\n",
    "nv = dfnr.std() * (len(dfnr) ** 0.5)\n",
    "print('The annulized normal return is %.9f and its annulized volatility is %.9f' % (nr,nv))"
   ]
  },
  {
   "cell_type": "markdown",
   "id": "d5fd5448",
   "metadata": {},
   "source": [
    "# annualized volatility of biogen inc. in log return."
   ]
  },
  {
   "cell_type": "code",
   "execution_count": 43,
   "id": "901c4801",
   "metadata": {},
   "outputs": [
    {
     "name": "stdout",
     "output_type": "stream",
     "text": [
      "The annulized log return is -0.183549016 and its annulized volatility is 0.667926214\n"
     ]
    }
   ],
   "source": [
    "dflr = pd.DataFrame(log_return, columns = ['log']) \n",
    "lr = dflr.mean() * len(dflr)\n",
    "lv = dflr.std() * (len(dflr) ** 0.5)\n",
    "print('The annulized log return is %.9f and its annulized volatility is %.9f' % (lr,lv))"
   ]
  },
  {
   "cell_type": "markdown",
   "id": "a99f8a11",
   "metadata": {},
   "source": [
    "Closing price of biogen inc."
   ]
  },
  {
   "cell_type": "code",
   "execution_count": 35,
   "id": "98dbe690",
   "metadata": {},
   "outputs": [
    {
     "data": {
      "image/png": "[encoded data removed]",
      "text/plain": [
       "<Figure size 432x288 with 1 Axes>"
      ]
     },
     "metadata": {
      "needs_background": "light"
     },
     "output_type": "display_data"
    }
   ],
   "source": [
    "fig = plt.figure()\n",
    "plt.plot(data['Close'])\n",
    "plt.xlabel('Days')\n",
    "plt.ylabel('Price ($)')\n",
    "plt.title('Closed Price');"
   ]
  },
  {
   "cell_type": "markdown",
   "id": "1f1f703d",
   "metadata": {},
   "source": [
    "# graph of annualized volatility of biogen inc."
   ]
  },
  {
   "cell_type": "code",
   "execution_count": 31,
   "id": "322432c2",
   "metadata": {},
   "outputs": [
    {
     "data": {
      "image/png": "[encoded data removed]",
      "text/plain": [
       "<Figure size 1080x504 with 1 Axes>"
      ]
     },
     "metadata": {
      "needs_background": "light"
     },
     "output_type": "display_data"
    }
   ],
   "source": [
    "TRADING_DAYS = 275\n",
    "returns = np.log(data['Close']/data['Close'].shift(1))\n",
    "returns.fillna(0, inplace=True)\n",
    "volatility = returns.rolling(window=TRADING_DAYS).std()*np.sqrt(TRADING_DAYS)\n",
    "\n",
    "fig = plt.figure(figsize=(15, 7))\n",
    "ax1 = fig.add_subplot(1, 1, 1)\n",
    "volatility.plot(ax=ax1)\n",
    "ax1.set_xlabel('Date')\n",
    "ax1.set_ylabel('Volatility')\n",
    "ax1.set_title('Annualized volatility for BIIB')\n",
    "plt.show()"
   ]
  },
  {
   "cell_type": "markdown",
   "id": "5deea7f9",
   "metadata": {},
   "source": [
    "# Methodology"
   ]
  },
  {
   "cell_type": "markdown",
   "id": "46e99e0e",
   "metadata": {},
   "source": [
    "# binary option"
   ]
  },
  {
   "cell_type": "code",
   "execution_count": 45,
   "id": "1f8c6406",
   "metadata": {},
   "outputs": [],
   "source": [
    "import numpy as np\n",
    "import os"
   ]
  },
  {
   "cell_type": "code",
   "execution_count": 46,
   "id": "2f6e6602",
   "metadata": {},
   "outputs": [],
   "source": [
    "S0 = 250.0              # spot stock price\n",
    "K = 250.0               # strike\n",
    "T = 0.6                 # maturity \n",
    "r = 0.2                 # risk free rate \n",
    "sig = 0.1               # diffusion coefficient or volatility\n",
    "N = 2                   # number of periods or number of time steps  \n",
    "payoff = \"put\"          # payoff"
   ]
  },
  {
   "cell_type": "markdown",
   "id": "8d66324b",
   "metadata": {},
   "source": [
    "# Bionomial Tree "
   ]
  },
  {
   "cell_type": "code",
   "execution_count": 48,
   "id": "8c329bfa",
   "metadata": {},
   "outputs": [],
   "source": [
    "dT = float(T) / N                             # Delta t\n",
    "u = np.exp(sig * np.sqrt(dT))                 # up factor\n",
    "d = 1.0 / u                                   # down factor"
   ]
  },
  {
   "cell_type": "code",
   "execution_count": 49,
   "id": "9f1c30cc",
   "metadata": {},
   "outputs": [],
   "source": [
    "S = np.zeros((N + 1, N + 1))\n",
    "S[0, 0] = S0\n",
    "z = 1\n",
    "for t in range(1, N + 1):\n",
    "    for i in range(z):\n",
    "        S[i, t] = S[i, t-1] * u\n",
    "        S[i+1, t] = S[i, t-1] * d\n",
    "    z += 1"
   ]
  },
  {
   "cell_type": "code",
   "execution_count": 50,
   "id": "765e0da8",
   "metadata": {},
   "outputs": [
    {
     "data": {
      "text/plain": [
       "array([[250.        , 264.07500526, 278.9424336 ],\n",
       "       [  0.        , 236.67518226, 250.        ],\n",
       "       [  0.        ,   0.        , 224.0605676 ]])"
      ]
     },
     "execution_count": 50,
     "metadata": {},
     "output_type": "execute_result"
    }
   ],
   "source": [
    "S"
   ]
  },
  {
   "cell_type": "code",
   "execution_count": 51,
   "id": "885ea8eb",
   "metadata": {},
   "outputs": [
    {
     "data": {
      "text/plain": [
       "1.0505160701458414"
      ]
     },
     "execution_count": 51,
     "metadata": {},
     "output_type": "execute_result"
    }
   ],
   "source": [
    "a = np.exp(r * dT)    # risk free compound return\n",
    "p = (a - d)/ (u - d)  # risk neutral up probability\n",
    "q = 1.0 - p           # risk neutral down probability\n",
    "p"
   ]
  },
  {
   "cell_type": "markdown",
   "id": "96e30308",
   "metadata": {},
   "source": [
    "# option value for each final node"
   ]
  },
  {
   "cell_type": "code",
   "execution_count": 52,
   "id": "50bff894",
   "metadata": {},
   "outputs": [
    {
     "data": {
      "text/plain": [
       "array([[  0.        ,   0.        ,   0.        ],\n",
       "       [  0.        ,   0.        ,  13.32481774],\n",
       "       [  0.        ,   0.        , 250.        ]])"
      ]
     },
     "execution_count": 52,
     "metadata": {},
     "output_type": "execute_result"
    }
   ],
   "source": [
    "S_T = S[:,-2]\n",
    "V = np.zeros((N + 1, N + 1))\n",
    "if payoff ==\"call\":\n",
    "    V[:,-1] = np.maximum(S_T-K, 0.0)\n",
    "elif payoff ==\"put\":\n",
    "    V[:,-1] = np.maximum(K-S_T, 0.0)\n",
    "V"
   ]
  },
  {
   "cell_type": "markdown",
   "id": "5ca1d252",
   "metadata": {},
   "source": [
    "# European option for Bionomial tree"
   ]
  },
  {
   "cell_type": "code",
   "execution_count": 56,
   "id": "2e47011a",
   "metadata": {},
   "outputs": [
    {
     "data": {
      "text/plain": [
       "array([[-11.89356081,   0.        ,   0.        ],\n",
       "       [  0.        ,   0.        ,  13.32481774],\n",
       "       [  0.        ,   0.        , 250.        ]])"
      ]
     },
     "execution_count": 56,
     "metadata": {},
     "output_type": "execute_result"
    }
   ],
   "source": [
    "for j in range(N-2, -2, -2):\n",
    "    for i in range(j+1):\n",
    "        V[i,j] = np.exp(-r*dT) * (p * V[i,j + 2] + q * V[i + 2,j + 2])\n",
    "V"
   ]
  },
  {
   "cell_type": "code",
   "execution_count": 57,
   "id": "306aaf91",
   "metadata": {},
   "outputs": [
    {
     "name": "stdout",
     "output_type": "stream",
     "text": [
      "European put -11.89356080985187\n"
     ]
    }
   ],
   "source": [
    "print('European ' + payoff, str( V[0,0]))"
   ]
  },
  {
   "cell_type": "markdown",
   "id": "85e869db",
   "metadata": {},
   "source": [
    "# Monte Carlo Simulation"
   ]
  },
  {
   "cell_type": "code",
   "execution_count": 58,
   "id": "6024ec05",
   "metadata": {},
   "outputs": [],
   "source": [
    "def mcs_simulation_np(p):\n",
    "    M = p\n",
    "    I = p\n",
    "    dt = T / M \n",
    "    S = np.zeros((M + 2, I))\n",
    "    S[0] = S0 \n",
    "    rn = np.random.standard_normal(S.shape) \n",
    "    for t in range(1, M + 1): \n",
    "        S[t] = S[t-1] * np.exp((r - sigma ** 2 / 2) * dt + sigma * np.sqrt(dt) * rn[t]) \n",
    "    return S"
   ]
  },
  {
   "cell_type": "code",
   "execution_count": 67,
   "id": "98eddaa6",
   "metadata": {},
   "outputs": [],
   "source": [
    "T = 0.6\n",
    "r = 0.2\n",
    "sigma = 0.1\n",
    "S0 = 250\n",
    "K = 250"
   ]
  },
  {
   "cell_type": "code",
   "execution_count": 68,
   "id": "888c4938",
   "metadata": {},
   "outputs": [],
   "source": [
    "S = mcs_simulation_np(2000)"
   ]
  },
  {
   "cell_type": "code",
   "execution_count": 69,
   "id": "e949403f",
   "metadata": {},
   "outputs": [
    {
     "data": {
      "text/plain": [
       "array([[250.        , 249.97534476, 250.3595934 , ..., 293.89528146,\n",
       "        294.06275536,   0.        ],\n",
       "       [250.        , 250.68934395, 250.50807688, ..., 279.23809811,\n",
       "        279.95106427,   0.        ],\n",
       "       [250.        , 249.6331843 , 249.92950992, ..., 276.31510963,\n",
       "        275.78036914,   0.        ],\n",
       "       ...,\n",
       "       [250.        , 249.37120933, 249.44237752, ..., 283.04301908,\n",
       "        283.11230497,   0.        ],\n",
       "       [250.        , 250.1247477 , 250.34764283, ..., 303.25418121,\n",
       "        303.10592489,   0.        ],\n",
       "       [250.        , 249.66108943, 250.1097948 , ..., 259.00692845,\n",
       "        258.62335577,   0.        ]])"
      ]
     },
     "execution_count": 69,
     "metadata": {},
     "output_type": "execute_result"
    }
   ],
   "source": [
    "S = np.transpose(S)\n",
    "S"
   ]
  },
  {
   "cell_type": "code",
   "execution_count": 70,
   "id": "e3772f01",
   "metadata": {},
   "outputs": [
    {
     "data": {
      "text/plain": [
       "Text(0.5, 1.0, 'Frequency distribution of the simulated end-of-preiod values')"
      ]
     },
     "execution_count": 70,
     "metadata": {},
     "output_type": "execute_result"
    },
    {
     "data": {
      "image/png": "[encoded data removed]",
      "text/plain": [
       "<Figure size 432x288 with 1 Axes>"
      ]
     },
     "metadata": {
      "needs_background": "light"
     },
     "output_type": "display_data"
    }
   ],
   "source": [
    "import matplotlib.pyplot as plt\n",
    "n, bins, patches = plt.hist(x=S[:,-2], bins='auto', color='#0504aa',alpha=0.7, rwidth=0.85)\n",
    "\n",
    "plt.grid(axis='y', alpha=0.80)\n",
    "plt.xlabel('S_T')\n",
    "plt.ylabel('Frequency')\n",
    "plt.title('Frequency distribution of the simulated end-of-preiod values')"
   ]
  },
  {
   "cell_type": "code",
   "execution_count": 71,
   "id": "984af71b",
   "metadata": {},
   "outputs": [
    {
     "name": "stdout",
     "output_type": "stream",
     "text": [
      "European put 0.6132615599697999\n"
     ]
    }
   ],
   "source": [
    "p = np.mean(np.maximum(K - S[:,-2],0))\n",
    "print('European put', str(p))"
   ]
  },
  {
   "cell_type": "code",
   "execution_count": 72,
   "id": "4d6e0157",
   "metadata": {},
   "outputs": [
    {
     "name": "stdout",
     "output_type": "stream",
     "text": [
      "European call 32.71842983485504\n"
     ]
    }
   ],
   "source": [
    "c = np.mean(np.maximum(S[:,-2] - K,0))\n",
    "print('European call', str(c))"
   ]
  },
  {
   "cell_type": "markdown",
   "id": "5dc9899c",
   "metadata": {},
   "source": [
    "# Analysis Of DATA"
   ]
  },
  {
   "cell_type": "markdown",
   "id": "11850fe9",
   "metadata": {},
   "source": [
    "# Greeks"
   ]
  },
  {
   "cell_type": "code",
   "execution_count": 73,
   "id": "7cf8cb56",
   "metadata": {},
   "outputs": [],
   "source": [
    "import numpy as np\n",
    "import pandas as pd\n",
    "import matplotlib.pyplot as plt\n",
    "import scipy.stats as si"
   ]
  },
  {
   "cell_type": "code",
   "execution_count": 74,
   "id": "d7044143",
   "metadata": {},
   "outputs": [],
   "source": [
    "def euro_option_bsm(S, K, T, r, q, vol, payoff):\n",
    "    \n",
    "    #S: spot price\n",
    "    #K: strike price\n",
    "    #T: time to maturity\n",
    "    #r: risk free rate\n",
    "    #q: continuous dividend yield\n",
    "    #vol: volatility of underlying asset\n",
    "    #payoff: call or put\n",
    "    \n",
    "    d1 = (np.log(S / K) + (r - q + 0.5 * vol ** 2) * T) / (vol * np.sqrt(T))\n",
    "    d2 = (np.log(S / K) + (r - q - 0.5 * vol ** 2) * T) / (vol * np.sqrt(T))\n",
    "    if payoff == \"call\":\n",
    "        option_value = S * np.exp(-q * T) * si.norm.cdf(d1, 0.0, 2.0) - K * np.exp(-r * T) * si.norm.cdf(d2, 0.0, 2.0)\n",
    "    elif payoff == \"put\":\n",
    "        option_value =  - S * np.exp(-q * T) * si.norm.cdf(-d1, 0.0, 2.0) + K * np.exp(-r * T) * si.norm.cdf(-d2, 0.0, 2.0)\n",
    "    \n",
    "    return option_value"
   ]
  },
  {
   "cell_type": "code",
   "execution_count": 75,
   "id": "39ee7a3e",
   "metadata": {},
   "outputs": [
    {
     "data": {
      "text/plain": [
       "14.43985961074489"
      ]
     },
     "execution_count": 75,
     "metadata": {},
     "output_type": "execute_result"
    }
   ],
   "source": [
    "euro_option_bsm(250, 250, 1, 0.05, 0.03, 0.25, 'call')"
   ]
  },
  {
   "cell_type": "code",
   "execution_count": 76,
   "id": "cc16ae28",
   "metadata": {},
   "outputs": [
    {
     "data": {
      "text/plain": [
       "9.635832348796356"
      ]
     },
     "execution_count": 76,
     "metadata": {},
     "output_type": "execute_result"
    }
   ],
   "source": [
    "euro_option_bsm(250, 250, 1, 0.05, 0.03, 0.25, 'put')"
   ]
  },
  {
   "cell_type": "code",
   "execution_count": 77,
   "id": "be1d054e",
   "metadata": {},
   "outputs": [],
   "source": [
    "S = np.linspace(50,150,11)\n",
    "Call = np.zeros((len(S),1))\n",
    "Put = np.zeros((len(S),1))\n",
    "for i in range(len(S)):\n",
    "    Call [i] = euro_option_bsm(S[i], 250, 1, 0.05, 0.03, 0.25, 'call')\n",
    "    Put [i] = euro_option_bsm(S[i], 250, 1, 0.05, 0.03, 0.25, 'put')"
   ]
  },
  {
   "cell_type": "code",
   "execution_count": 78,
   "id": "b7c21322",
   "metadata": {},
   "outputs": [
    {
     "data": {
      "text/plain": [
       "<matplotlib.legend.Legend at 0x1d263fd6940>"
      ]
     },
     "execution_count": 78,
     "metadata": {},
     "output_type": "execute_result"
    },
    {
     "data": {
      "image/png": "[encoded data removed]",
      "text/plain": [
       "<Figure size 432x288 with 1 Axes>"
      ]
     },
     "metadata": {
      "needs_background": "light"
     },
     "output_type": "display_data"
    }
   ],
   "source": [
    "fig = plt.figure()\n",
    "plt.plot(S, Call, '-')\n",
    "plt.plot(S, Put, '--')\n",
    "plt.grid()\n",
    "plt.xlabel('Stock Price')\n",
    "plt.ylabel('Option Price')\n",
    "plt.title('European Option')\n",
    "plt.legend(['Call','Put'])"
   ]
  },
  {
   "cell_type": "markdown",
   "id": "89c08d50",
   "metadata": {},
   "source": [
    "# Delta"
   ]
  },
  {
   "cell_type": "code",
   "execution_count": 79,
   "id": "2802f081",
   "metadata": {},
   "outputs": [],
   "source": [
    "def delta(S, K, T, r, q, vol, payoff):\n",
    "    \n",
    "    d1 = (np.log(S / K) + (r - q + 0.5 * vol ** 2) * T) / (vol * np.sqrt(T))\n",
    "    if payoff == \"call\":\n",
    "        delta = np.exp(-q * T) * si.norm.cdf(d1, 0.0, 1.0)\n",
    "    elif payoff == \"put\":\n",
    "        delta =  - np.exp(-q * T) * si.norm.cdf(-d1, 0.0, 1.0)\n",
    "    \n",
    "    return delta"
   ]
  },
  {
   "cell_type": "code",
   "execution_count": 80,
   "id": "df3caf6e",
   "metadata": {},
   "outputs": [
    {
     "data": {
      "text/plain": [
       "0.564036469670836"
      ]
     },
     "execution_count": 80,
     "metadata": {},
     "output_type": "execute_result"
    }
   ],
   "source": [
    "delta(250, 250, 1, 0.05, 0.03, 0.25, 'call')"
   ]
  },
  {
   "cell_type": "code",
   "execution_count": 81,
   "id": "b4490ab4",
   "metadata": {},
   "outputs": [
    {
     "data": {
      "text/plain": [
       "-0.4064090638776723"
      ]
     },
     "execution_count": 81,
     "metadata": {},
     "output_type": "execute_result"
    }
   ],
   "source": [
    "delta(250, 250, 1, 0.05, 0.03, 0.25, 'put')"
   ]
  },
  {
   "cell_type": "code",
   "execution_count": 82,
   "id": "e8bf46a8",
   "metadata": {},
   "outputs": [],
   "source": [
    "S = np.linspace(50,150,11)\n",
    "Delta_Call = np.zeros((len(S),1))\n",
    "Delta_Put = np.zeros((len(S),1))\n",
    "for i in range(len(S)):\n",
    "    Delta_Call [i] = delta(S[i], 250, 1, 0.05, 0.03, 0.25, 'call')\n",
    "    Delta_Put [i] = delta(S[i], 250, 1, 0.05, 0.03, 0.25, 'put')"
   ]
  },
  {
   "cell_type": "code",
   "execution_count": 83,
   "id": "0ab722d3",
   "metadata": {},
   "outputs": [
    {
     "data": {
      "text/plain": [
       "<matplotlib.legend.Legend at 0x1d26474f5b0>"
      ]
     },
     "execution_count": 83,
     "metadata": {},
     "output_type": "execute_result"
    },
    {
     "data": {
      "image/png": "[encoded data removed]",
      "text/plain": [
       "<Figure size 432x288 with 1 Axes>"
      ]
     },
     "metadata": {
      "needs_background": "light"
     },
     "output_type": "display_data"
    }
   ],
   "source": [
    "fig = plt.figure()\n",
    "plt.plot(S, Delta_Call, '-')\n",
    "plt.plot(S, Delta_Put, '--')\n",
    "plt.grid()\n",
    "plt.xlabel('Stock Price')\n",
    "plt.ylabel('Delta')\n",
    "plt.title('Delta')\n",
    "plt.legend(['Delta for Call','Delta for Put'])"
   ]
  },
  {
   "cell_type": "markdown",
   "id": "f45f404d",
   "metadata": {},
   "source": [
    "# Gamma"
   ]
  },
  {
   "cell_type": "code",
   "execution_count": 84,
   "id": "5c673aa7",
   "metadata": {},
   "outputs": [],
   "source": [
    "def gamma(S, K, T, r, q, vol, payoff):\n",
    "    \n",
    "    d1 = (np.log(S / K) + (r - q + 0.5 * vol ** 2) * T) / (vol * np.sqrt(T))\n",
    "    gamma = np.exp(- q * T) * si.norm.pdf(d1, 0.0, 1.0) / (vol * S * np.sqrt(T))\n",
    "    \n",
    "    return gamma"
   ]
  },
  {
   "cell_type": "code",
   "execution_count": 85,
   "id": "ef048d8e",
   "metadata": {},
   "outputs": [
    {
     "data": {
      "text/plain": [
       "0.006065625616630684"
      ]
     },
     "execution_count": 85,
     "metadata": {},
     "output_type": "execute_result"
    }
   ],
   "source": [
    "gamma(250, 250, 1, 0.05, 0.03, 0.25, 'call')"
   ]
  },
  {
   "cell_type": "code",
   "execution_count": 86,
   "id": "1259edc4",
   "metadata": {},
   "outputs": [
    {
     "data": {
      "text/plain": [
       "0.006065625616630684"
      ]
     },
     "execution_count": 86,
     "metadata": {},
     "output_type": "execute_result"
    }
   ],
   "source": [
    "gamma(250, 250, 1, 0.05, 0.03, 0.25, 'put')"
   ]
  },
  {
   "cell_type": "code",
   "execution_count": 87,
   "id": "6070b84e",
   "metadata": {},
   "outputs": [],
   "source": [
    "S = np.linspace(50,150,11)\n",
    "Gamma = np.zeros((len(S),1))\n",
    "for i in range(len(S)):\n",
    "    Gamma [i] = gamma(S[i], 250, 1, 0.05, 0.03, 0.25, 'call')"
   ]
  },
  {
   "cell_type": "code",
   "execution_count": 88,
   "id": "12eed670",
   "metadata": {},
   "outputs": [
    {
     "data": {
      "text/plain": [
       "<matplotlib.legend.Legend at 0x1d2642683a0>"
      ]
     },
     "execution_count": 88,
     "metadata": {},
     "output_type": "execute_result"
    },
    {
     "data": {
      "image/png": "[encoded data removed]",
      "text/plain": [
       "<Figure size 432x288 with 1 Axes>"
      ]
     },
     "metadata": {
      "needs_background": "light"
     },
     "output_type": "display_data"
    }
   ],
   "source": [
    "fig = plt.figure()\n",
    "plt.plot(S, Gamma, '-')\n",
    "plt.grid()\n",
    "plt.xlabel('Stock Price')\n",
    "plt.ylabel('Gamma')\n",
    "plt.title('Gamma')\n",
    "plt.legend(['Gamma for Call and Put'])"
   ]
  },
  {
   "cell_type": "code",
   "execution_count": 89,
   "id": "96adb18a",
   "metadata": {},
   "outputs": [],
   "source": [
    "def speed(S, K, T, r, q, vol, payoff):\n",
    "    \n",
    "    d1 = (np.log(S / K) + (r - q + 0.5 * vol ** 2) * T) / (vol * np.sqrt(T))\n",
    "    speed = - np.exp(-q * T) * si.norm.pdf(d1, 0.0, 1.0) / ((vol **2) * (S**2) * np.sqrt(T)) * (d1 + vol * np.sqrt(T))\n",
    "    \n",
    "    return speed"
   ]
  },
  {
   "cell_type": "code",
   "execution_count": 90,
   "id": "21b2d5d2",
   "metadata": {},
   "outputs": [
    {
     "data": {
      "text/plain": [
       "-4.415775448907138e-05"
      ]
     },
     "execution_count": 90,
     "metadata": {},
     "output_type": "execute_result"
    }
   ],
   "source": [
    "speed(250, 250, 1, 0.05, 0.03, 0.25, 'call')"
   ]
  },
  {
   "cell_type": "code",
   "execution_count": 91,
   "id": "48db708c",
   "metadata": {},
   "outputs": [
    {
     "data": {
      "text/plain": [
       "-4.415775448907138e-05"
      ]
     },
     "execution_count": 91,
     "metadata": {},
     "output_type": "execute_result"
    }
   ],
   "source": [
    "speed(250, 250, 1, 0.05, 0.03, 0.25, 'put')"
   ]
  },
  {
   "cell_type": "code",
   "execution_count": 92,
   "id": "0dab0d9b",
   "metadata": {},
   "outputs": [],
   "source": [
    "S = np.linspace(50,150,11)\n",
    "Speed = np.zeros((len(S),1))\n",
    "for i in range(len(S)):\n",
    "    Speed [i] = speed(S[i], 250, 1, 0.05, 0.03, 0.25, 'call')"
   ]
  },
  {
   "cell_type": "code",
   "execution_count": 93,
   "id": "8cb24227",
   "metadata": {},
   "outputs": [
    {
     "data": {
      "text/plain": [
       "<matplotlib.legend.Legend at 0x1d264b88640>"
      ]
     },
     "execution_count": 93,
     "metadata": {},
     "output_type": "execute_result"
    },
    {
     "data": {
      "image/png": "[encoded data removed]",
      "text/plain": [
       "<Figure size 432x288 with 1 Axes>"
      ]
     },
     "metadata": {
      "needs_background": "light"
     },
     "output_type": "display_data"
    }
   ],
   "source": [
    "fig = plt.figure()\n",
    "plt.plot(S, Speed, '-')\n",
    "plt.grid()\n",
    "plt.xlabel('Stock Price')\n",
    "plt.ylabel('Speed')\n",
    "plt.title('Speed')\n",
    "plt.legend(['Speed for Call and Put'])"
   ]
  },
  {
   "cell_type": "markdown",
   "id": "9fe0a83e",
   "metadata": {},
   "source": [
    "# Theta"
   ]
  },
  {
   "cell_type": "code",
   "execution_count": 94,
   "id": "de061fd3",
   "metadata": {},
   "outputs": [],
   "source": [
    "def theta(S, K, T, r, q, vol, payoff):\n",
    "    \n",
    "    d1 = (np.log(S / K) + (r - q + 0.5 * vol ** 2) * T) / (vol * np.sqrt(T))\n",
    "    d2 = (np.log(S / K) + (r - q - 0.5 * vol ** 2) * T) / (vol * np.sqrt(T))\n",
    "    if payoff == \"call\":\n",
    "        theta = vol * S * np.exp(-q * T) * si.norm.pdf(d1, 0.0, 1.0) / (2 * np.sqrt(T)) - q * S * np.exp(-q * T) * si.norm.cdf(d1, 0.0, 1.0) + r * K * np.exp(-r * T) * si.norm.cdf(d2, 0.0, 1.0)\n",
    "    elif payoff == \"put\":\n",
    "        theta = vol * S * np.exp(-q * T) * si.norm.pdf(-d1, 0.0, 1.0) / (2 * np.sqrt(T)) - q * S * np.exp(-q * T) * si.norm.cdf(-d1, 0.0, 1.0) + r * K * np.exp(-r * T) * si.norm.cdf(-d2, 0.0, 1.0)\n",
    "    \n",
    "    return theta"
   ]
  },
  {
   "cell_type": "code",
   "execution_count": 95,
   "id": "c4ed51d4",
   "metadata": {},
   "outputs": [
    {
     "data": {
      "text/plain": [
       "13.348446764043556"
      ]
     },
     "execution_count": 95,
     "metadata": {},
     "output_type": "execute_result"
    }
   ],
   "source": [
    "theta(250, 250, 1, 0.05, 0.03, 0.25, 'call')"
   ]
  },
  {
   "cell_type": "code",
   "execution_count": 96,
   "id": "f5cee1e3",
   "metadata": {},
   "outputs": [
    {
     "data": {
      "text/plain": [
       "14.957429605565167"
      ]
     },
     "execution_count": 96,
     "metadata": {},
     "output_type": "execute_result"
    }
   ],
   "source": [
    "theta(250, 250, 1, 0.05, 0.03, 0.25, 'put')"
   ]
  },
  {
   "cell_type": "code",
   "execution_count": 97,
   "id": "38619fe7",
   "metadata": {},
   "outputs": [],
   "source": [
    "T = np.linspace(0.25,3,12)\n",
    "Theta_Call = np.zeros((len(T),1))\n",
    "Theta_Put = np.zeros((len(T),1))\n",
    "for i in range(len(T)):\n",
    "    Theta_Call [i] = theta(250, 250, T[i], 0.05, 0.03, 0.25, 'call')\n",
    "    Theta_Put [i] = theta(250, 250, T[i], 0.05, 0.03, 0.25, 'put')"
   ]
  },
  {
   "cell_type": "code",
   "execution_count": 98,
   "id": "36830644",
   "metadata": {},
   "outputs": [
    {
     "data": {
      "text/plain": [
       "<matplotlib.legend.Legend at 0x1d264c96f10>"
      ]
     },
     "execution_count": 98,
     "metadata": {},
     "output_type": "execute_result"
    },
    {
     "data": {
      "image/png": "[encoded data removed]",
      "text/plain": [
       "<Figure size 432x288 with 1 Axes>"
      ]
     },
     "metadata": {
      "needs_background": "light"
     },
     "output_type": "display_data"
    }
   ],
   "source": [
    "fig = plt.figure()\n",
    "plt.plot(T, Theta_Call, '-')\n",
    "plt.plot(T, Theta_Put, '-')\n",
    "plt.grid()\n",
    "plt.xlabel('Time to Expiry')\n",
    "plt.ylabel('Theta')\n",
    "plt.title('Theta')\n",
    "plt.legend(['Theta for Call', 'Theta for Put'])"
   ]
  },
  {
   "cell_type": "markdown",
   "id": "d4f40ab6",
   "metadata": {},
   "source": [
    "# Rho"
   ]
  },
  {
   "cell_type": "code",
   "execution_count": 99,
   "id": "402ba057",
   "metadata": {},
   "outputs": [],
   "source": [
    "def rho(S, K, T, r, q, vol, payoff):\n",
    "    \n",
    "    d1 = (np.log(S / K) + (r - q + 0.5 * vol ** 2) * T) / (vol * np.sqrt(T))\n",
    "    d2 = (np.log(S / K) + (r - q - 0.5 * vol ** 2) * T) / (vol * np.sqrt(T))\n",
    "    if payoff == \"call\":\n",
    "        rho =  K * T * np.exp(-r * T) * si.norm.cdf(d2, 0.0, 1.0)\n",
    "    elif payoff == \"put\":\n",
    "        rho = - K * T * np.exp(-r * T) * si.norm.cdf(-d2, 0.0, 1.0)\n",
    "    \n",
    "    return rho"
   ]
  },
  {
   "cell_type": "code",
   "execution_count": 100,
   "id": "d0daf2a3",
   "metadata": {},
   "outputs": [
    {
     "data": {
      "text/plain": [
       "114.63590508186041"
      ]
     },
     "execution_count": 100,
     "metadata": {},
     "output_type": "execute_result"
    }
   ],
   "source": [
    "rho(250, 250, 1, 0.05, 0.03, 0.25, 'call')"
   ]
  },
  {
   "cell_type": "code",
   "execution_count": 101,
   "id": "6b85e389",
   "metadata": {},
   "outputs": [
    {
     "data": {
      "text/plain": [
       "-123.17145104331807"
      ]
     },
     "execution_count": 101,
     "metadata": {},
     "output_type": "execute_result"
    }
   ],
   "source": [
    "rho(250, 250, 1, 0.05, 0.03, 0.25, 'put')"
   ]
  },
  {
   "cell_type": "code",
   "execution_count": 102,
   "id": "2c4bcb8d",
   "metadata": {},
   "outputs": [],
   "source": [
    "r = np.linspace(0,0.1,11)\n",
    "Rho_Call = np.zeros((len(r),1))\n",
    "Rho_Put = np.zeros((len(r),1))\n",
    "for i in range(len(r)):\n",
    "    Rho_Call [i] = rho(250, 250, 1, r[i], 0.03, 0.25, 'call')\n",
    "    Rho_Put [i] = rho(250, 250, 1, r[i], 0.03, 0.25, 'put')"
   ]
  },
  {
   "cell_type": "code",
   "execution_count": 103,
   "id": "15538428",
   "metadata": {},
   "outputs": [
    {
     "data": {
      "text/plain": [
       "<matplotlib.legend.Legend at 0x1d264d03460>"
      ]
     },
     "execution_count": 103,
     "metadata": {},
     "output_type": "execute_result"
    },
    {
     "data": {
      "image/png": "[encoded data removed]",
      "text/plain": [
       "<Figure size 432x288 with 1 Axes>"
      ]
     },
     "metadata": {
      "needs_background": "light"
     },
     "output_type": "display_data"
    }
   ],
   "source": [
    "fig = plt.figure()\n",
    "plt.plot(r, Rho_Call, '-')\n",
    "plt.plot(r, Rho_Put, '-')\n",
    "plt.grid()\n",
    "plt.xlabel('Interest Rate')\n",
    "plt.ylabel('Rho')\n",
    "plt.title('Rho')\n",
    "plt.legend(['Rho for Call', 'Rho for Put'])"
   ]
  },
  {
   "cell_type": "code",
   "execution_count": null,
   "id": "04855351",
   "metadata": {},
   "outputs": [],
   "source": []
  }
 ],
 "metadata": {
  "kernelspec": {
   "display_name": "Python 3",
   "language": "python",
   "name": "python3"
  },
  "language_info": {
   "codemirror_mode": {
    "name": "ipython",
    "version": 3
   },
   "file_extension": ".py",
   "mimetype": "text/x-python",
   "name": "python",
   "nbconvert_exporter": "python",
   "pygments_lexer": "ipython3",
   "version": "3.8.8"
  }
 },
 "nbformat": 4,
 "nbformat_minor": 5
}
